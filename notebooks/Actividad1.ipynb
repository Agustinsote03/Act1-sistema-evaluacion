{
 "cells": [
  {
   "cell_type": "code",
   "execution_count": 77,
   "id": "ca64cce0",
   "metadata": {},
   "outputs": [
    {
     "name": "stdout",
     "output_type": "stream",
     "text": [
      "Importación exitosa\n"
     ]
    }
   ],
   "source": [
    "import sys\n",
    "import os\n",
    "sys.path.append(os.path.join(os.getcwd(), '..', 'src'))\n",
    "from funciones import calcular_puntaje, mejor_equipo_de_ronda\n",
    "print(\"Importación exitosa\")"
   ]
  },
  {
   "cell_type": "code",
   "execution_count": 78,
   "id": "0e6333bc",
   "metadata": {},
   "outputs": [],
   "source": [
    "evaluaciones = [\n",
    "    # Ronda 1\n",
    "    {\n",
    "        'EquipoA': {'innovacion': 2, 'presentacion': 1, 'errores': True},\n",
    "        'EquipoB': {'innovacion': 1, 'presentacion': 0, 'errores': False},\n",
    "        'EquipoC': {'innovacion': 1, 'presentacion': 2, 'errores': True},\n",
    "        'EquipoD': {'innovacion': 0, 'presentacion': 1, 'errores': False},\n",
    "        'EquipoE': {'innovacion': 1, 'presentacion': 1, 'errores': False}\n",
    "    },\n",
    "    # Ronda 2\n",
    "    {\n",
    "        'EquipoA': {'innovacion': 0, 'presentacion': 2, 'errores': False},\n",
    "        'EquipoB': {'innovacion': 2, 'presentacion': 0, 'errores': True},\n",
    "        'EquipoC': {'innovacion': 1, 'presentacion': 1, 'errores': False},\n",
    "        'EquipoD': {'innovacion': 2, 'presentacion': 1, 'errores': True},\n",
    "        'EquipoE': {'innovacion': 0, 'presentacion': 1, 'errores': False}\n",
    "    },\n",
    "    # Ronda 3\n",
    "    {\n",
    "        'EquipoA': {'innovacion': 3, 'presentacion': 2, 'errores': False},\n",
    "        'EquipoB': {'innovacion': 1, 'presentacion': 1, 'errores': True},\n",
    "        'EquipoC': {'innovacion': 2, 'presentacion': 0, 'errores': False},\n",
    "        'EquipoD': {'innovacion': 1, 'presentacion': 3, 'errores': True},\n",
    "        'EquipoE': {'innovacion': 2, 'presentacion': 2, 'errores': False}\n",
    "    },\n",
    "    # Ronda 4\n",
    "    {\n",
    "        'EquipoA': {'innovacion': 1, 'presentacion': 3, 'errores': True},\n",
    "        'EquipoB': {'innovacion': 2, 'presentacion': 2, 'errores': False},\n",
    "        'EquipoC': {'innovacion': 3, 'presentacion': 1, 'errores': False},\n",
    "        'EquipoD': {'innovacion': 0, 'presentacion': 2, 'errores': True},\n",
    "        'EquipoE': {'innovacion': 2, 'presentacion': 0, 'errores': False}\n",
    "    },\n",
    "    # Ronda 5\n",
    "    {\n",
    "        'EquipoA': {'innovacion': 2, 'presentacion': 2, 'errores': False},\n",
    "        'EquipoB': {'innovacion': 1, 'presentacion': 3, 'errores': True},\n",
    "        'EquipoC': {'innovacion': 0, 'presentacion': 2, 'errores': False},\n",
    "        'EquipoD': {'innovacion': 3, 'presentacion': 1, 'errores': False},\n",
    "        'EquipoE': {'innovacion': 2, 'presentacion': 3, 'errores': True}\n",
    "    }\n",
    "]\n"
   ]
  },
  {
   "cell_type": "code",
   "execution_count": 79,
   "id": "1d3caedb",
   "metadata": {},
   "outputs": [
    {
     "name": "stdout",
     "output_type": "stream",
     "text": [
      "\n",
      "Ranking de equipos:\n",
      "EquipoA: 32\n",
      "EquipoE: 27\n",
      "EquipoC: 26\n",
      "EquipoB: 24\n",
      "EquipoD: 23\n"
     ]
    }
   ],
   "source": [
    "resultados = {} # Diccionario para almacenar puntajes de cada equipo\n",
    "for ronda in evaluaciones:\n",
    "  for equipo, stats in ronda.items(): #accedo al contenido de la ronda(un diccionario) y lo guardo en stats\n",
    "        puntaje = calcular_puntaje(stats)\n",
    "        resultados[equipo] = resultados.get(equipo, 0) + puntaje \n",
    "# Formato ranking\n",
    "ranking = sorted(resultados.items(), key=lambda x: x[1], reverse=True)\n",
    "print(\"\\nRanking de equipos:\")\n",
    "for equipo, puntaje in ranking:\n",
    "    print(f\"{equipo}: {puntaje}\")\n"
   ]
  },
  {
   "cell_type": "code",
   "execution_count": null,
   "id": "61d87cde",
   "metadata": {},
   "outputs": [],
   "source": []
  }
 ],
 "metadata": {
  "kernelspec": {
   "display_name": "Python 3",
   "language": "python",
   "name": "python3"
  },
  "language_info": {
   "codemirror_mode": {
    "name": "ipython",
    "version": 3
   },
   "file_extension": ".py",
   "mimetype": "text/x-python",
   "name": "python",
   "nbconvert_exporter": "python",
   "pygments_lexer": "ipython3",
   "version": "3.12.9"
  }
 },
 "nbformat": 4,
 "nbformat_minor": 5
}
