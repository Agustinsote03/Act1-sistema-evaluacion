{
 "cells": [
  {
   "cell_type": "code",
   "execution_count": 1,
   "id": "0e6333bc",
   "metadata": {},
   "outputs": [],
   "source": [
    "import sys\n",
    "import os\n",
    "sys.path.append(os.path.join(os.getcwd(), '..', 'src'))\n",
    "from funciones import procesar_evaluaciones_completo, mostrar_tabla_de_resultados"
   ]
  },
  {
   "cell_type": "markdown",
   "id": "7f2670bd",
   "metadata": {},
   "source": [
    "Ghizzo Fabricio Agustin - Taller de Lenguajes CDO 2025\n",
    "Legajo N° 18049/8"
   ]
  },
  {
   "cell_type": "markdown",
   "id": "aca009cf",
   "metadata": {},
   "source": [
    "Se cuenta con la siguiente estructura de datos "
   ]
  },
  {
   "cell_type": "code",
   "execution_count": 2,
   "id": "ffe6090d",
   "metadata": {},
   "outputs": [],
   "source": [
    "evaluaciones = [\n",
    "    # Ronda 1\n",
    "    {\n",
    "        'EquipoA': {'innovacion': 2, 'presentacion': 1, 'errores': True},\n",
    "        'EquipoB': {'innovacion': 1, 'presentacion': 0, 'errores': False},\n",
    "        'EquipoC': {'innovacion': 1, 'presentacion': 2, 'errores': True},\n",
    "        'EquipoD': {'innovacion': 0, 'presentacion': 1, 'errores': False},\n",
    "        'EquipoE': {'innovacion': 1, 'presentacion': 1, 'errores': False}\n",
    "    },\n",
    "    # Ronda 2\n",
    "    {\n",
    "        'EquipoA': {'innovacion': 0, 'presentacion': 2, 'errores': False},\n",
    "        'EquipoB': {'innovacion': 2, 'presentacion': 0, 'errores': True},\n",
    "        'EquipoC': {'innovacion': 1, 'presentacion': 1, 'errores': False},\n",
    "        'EquipoD': {'innovacion': 2, 'presentacion': 1, 'errores': True},\n",
    "        'EquipoE': {'innovacion': 0, 'presentacion': 1, 'errores': False}\n",
    "    },\n",
    "    # Ronda 3\n",
    "    {\n",
    "        'EquipoA': {'innovacion': 3, 'presentacion': 2, 'errores': False},\n",
    "        'EquipoB': {'innovacion': 1, 'presentacion': 1, 'errores': True},\n",
    "        'EquipoC': {'innovacion': 2, 'presentacion': 0, 'errores': False},\n",
    "        'EquipoD': {'innovacion': 1, 'presentacion': 3, 'errores': True},\n",
    "        'EquipoE': {'innovacion': 2, 'presentacion': 2, 'errores': False}\n",
    "    },\n",
    "    # Ronda 4\n",
    "    {\n",
    "        'EquipoA': {'innovacion': 1, 'presentacion': 3, 'errores': True},\n",
    "        'EquipoB': {'innovacion': 2, 'presentacion': 2, 'errores': False},\n",
    "        'EquipoC': {'innovacion': 3, 'presentacion': 1, 'errores': False},\n",
    "        'EquipoD': {'innovacion': 0, 'presentacion': 2, 'errores': True},\n",
    "        'EquipoE': {'innovacion': 2, 'presentacion': 0, 'errores': False}\n",
    "    },\n",
    "    # Ronda 5\n",
    "    {\n",
    "        'EquipoA': {'innovacion': 2, 'presentacion': 2, 'errores': False},\n",
    "        'EquipoB': {'innovacion': 1, 'presentacion': 3, 'errores': True},\n",
    "        'EquipoC': {'innovacion': 0, 'presentacion': 2, 'errores': False},\n",
    "        'EquipoD': {'innovacion': 3, 'presentacion': 1, 'errores': False},\n",
    "        'EquipoE': {'innovacion': 2, 'presentacion': 3, 'errores': True}\n",
    "    }\n",
    "]"
   ]
  },
  {
   "cell_type": "code",
   "execution_count": 3,
   "id": "a206ee02",
   "metadata": {},
   "outputs": [
    {
     "name": "stdout",
     "output_type": "stream",
     "text": [
      "PROCESANDO EVALUACIONES...\n",
      "==================================================\n",
      "RONDA 1\n",
      "==============================\n",
      "MEJOR EQUIPO DE LA RONDA: EquipoA (6 puntos)\n",
      "\n",
      "RANKING ACTUALIZADO:\n",
      "   1. EquipoA: 6 puntos\n",
      "   2. EquipoC: 4 puntos\n",
      "   3. EquipoE: 4 puntos\n",
      "   4. EquipoB: 3 puntos\n",
      "   5. EquipoD: 1 puntos\n",
      "--------------------------------------------------\n",
      "RONDA 2\n",
      "==============================\n",
      "MEJOR EQUIPO DE LA RONDA: EquipoD (6 puntos)\n",
      "\n",
      "RANKING ACTUALIZADO:\n",
      "   1. EquipoA: 8 puntos\n",
      "   2. EquipoB: 8 puntos\n",
      "   3. EquipoC: 8 puntos\n",
      "   4. EquipoD: 7 puntos\n",
      "   5. EquipoE: 5 puntos\n",
      "--------------------------------------------------\n",
      "RONDA 3\n",
      "==============================\n",
      "MEJOR EQUIPO DE LA RONDA: EquipoA (11 puntos)\n",
      "\n",
      "RANKING ACTUALIZADO:\n",
      "   1. EquipoA: 19 puntos\n",
      "   2. EquipoC: 14 puntos\n",
      "   3. EquipoE: 13 puntos\n",
      "   4. EquipoD: 12 puntos\n",
      "   5. EquipoB: 11 puntos\n",
      "--------------------------------------------------\n",
      "RONDA 4\n",
      "==============================\n",
      "MEJOR EQUIPO DE LA RONDA: EquipoC (10 puntos)\n",
      "\n",
      "RANKING ACTUALIZADO:\n",
      "   1. EquipoA: 24 puntos\n",
      "   2. EquipoC: 24 puntos\n",
      "   3. EquipoB: 19 puntos\n",
      "   4. EquipoE: 19 puntos\n",
      "   5. EquipoD: 13 puntos\n",
      "--------------------------------------------------\n",
      "RONDA 5\n",
      "==============================\n",
      "MEJOR EQUIPO DE LA RONDA: EquipoD (10 puntos)\n",
      "\n",
      "RANKING ACTUALIZADO:\n",
      "   1. EquipoA: 32 puntos\n",
      "   2. EquipoE: 27 puntos\n",
      "   3. EquipoC: 26 puntos\n",
      "   4. EquipoB: 24 puntos\n",
      "   5. EquipoD: 23 puntos\n",
      "--------------------------------------------------\n"
     ]
    }
   ],
   "source": [
    "# Recorrido de la lista\n",
    "resultados = procesar_evaluaciones_completo(evaluaciones)\n"
   ]
  },
  {
   "cell_type": "code",
   "execution_count": 4,
   "id": "1d3caedb",
   "metadata": {},
   "outputs": [
    {
     "name": "stdout",
     "output_type": "stream",
     "text": [
      "\n",
      "TABLA DE RESULTADOS FINAL\n",
      "==================================================\n",
      "EquipoA: 32 puntos\n",
      "EquipoE: 27 puntos\n",
      "EquipoC: 26 puntos\n",
      "EquipoB: 24 puntos\n",
      "EquipoD: 23 puntos\n"
     ]
    }
   ],
   "source": [
    "mostrar_tabla_de_resultados(resultados['puntajes_acumulados'])\n"
   ]
  }
 ],
 "metadata": {
  "kernelspec": {
   "display_name": "Python 3",
   "language": "python",
   "name": "python3"
  },
  "language_info": {
   "codemirror_mode": {
    "name": "ipython",
    "version": 3
   },
   "file_extension": ".py",
   "mimetype": "text/x-python",
   "name": "python",
   "nbconvert_exporter": "python",
   "pygments_lexer": "ipython3",
   "version": "3.12.9"
  }
 },
 "nbformat": 4,
 "nbformat_minor": 5
}
