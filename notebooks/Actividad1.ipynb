{
 "cells": [
  {
   "cell_type": "code",
   "execution_count": 22,
   "id": "0e6333bc",
   "metadata": {},
   "outputs": [
    {
     "name": "stdout",
     "output_type": "stream",
     "text": [
      "✅ Funciones importadas\n"
     ]
    }
   ],
   "source": [
    "\n",
    "import sys\n",
    "import os\n",
    "sys.path.append(os.path.join(os.getcwd(), '..', 'src'))\n",
    "from funciones import calcular_puntaje, mejor_equipo_de_ronda, generar_tabla_de_resultados\n",
    "print(\"✅ Funciones importadas\")"
   ]
  },
  {
   "cell_type": "code",
   "execution_count": 23,
   "id": "ffe6090d",
   "metadata": {},
   "outputs": [],
   "source": [
    "evaluaciones = [\n",
    "    # Ronda 1\n",
    "    {\n",
    "        'EquipoA': {'innovacion': 2, 'presentacion': 1, 'errores': True},\n",
    "        'EquipoB': {'innovacion': 1, 'presentacion': 0, 'errores': False},\n",
    "        'EquipoC': {'innovacion': 1, 'presentacion': 2, 'errores': True},\n",
    "        'EquipoD': {'innovacion': 0, 'presentacion': 1, 'errores': False},\n",
    "        'EquipoE': {'innovacion': 1, 'presentacion': 1, 'errores': False}\n",
    "    },\n",
    "    # Ronda 2\n",
    "    {\n",
    "        'EquipoA': {'innovacion': 0, 'presentacion': 2, 'errores': False},\n",
    "        'EquipoB': {'innovacion': 2, 'presentacion': 0, 'errores': True},\n",
    "        'EquipoC': {'innovacion': 1, 'presentacion': 1, 'errores': False},\n",
    "        'EquipoD': {'innovacion': 2, 'presentacion': 1, 'errores': True},\n",
    "        'EquipoE': {'innovacion': 0, 'presentacion': 1, 'errores': False}\n",
    "    },\n",
    "    # Ronda 3\n",
    "    {\n",
    "        'EquipoA': {'innovacion': 3, 'presentacion': 2, 'errores': False},\n",
    "        'EquipoB': {'innovacion': 1, 'presentacion': 1, 'errores': True},\n",
    "        'EquipoC': {'innovacion': 2, 'presentacion': 0, 'errores': False},\n",
    "        'EquipoD': {'innovacion': 1, 'presentacion': 3, 'errores': True},\n",
    "        'EquipoE': {'innovacion': 2, 'presentacion': 2, 'errores': False}\n",
    "    },\n",
    "    # Ronda 4\n",
    "    {\n",
    "        'EquipoA': {'innovacion': 1, 'presentacion': 3, 'errores': True},\n",
    "        'EquipoB': {'innovacion': 2, 'presentacion': 2, 'errores': False},\n",
    "        'EquipoC': {'innovacion': 3, 'presentacion': 1, 'errores': False},\n",
    "        'EquipoD': {'innovacion': 0, 'presentacion': 2, 'errores': True},\n",
    "        'EquipoE': {'innovacion': 2, 'presentacion': 0, 'errores': False}\n",
    "    },\n",
    "    # Ronda 5\n",
    "    {\n",
    "        'EquipoA': {'innovacion': 2, 'presentacion': 2, 'errores': False},\n",
    "        'EquipoB': {'innovacion': 1, 'presentacion': 3, 'errores': True},\n",
    "        'EquipoC': {'innovacion': 0, 'presentacion': 2, 'errores': False},\n",
    "        'EquipoD': {'innovacion': 3, 'presentacion': 1, 'errores': False},\n",
    "        'EquipoE': {'innovacion': 2, 'presentacion': 3, 'errores': True}\n",
    "    }\n",
    "]"
   ]
  },
  {
   "cell_type": "code",
   "execution_count": 24,
   "id": "1db796e2",
   "metadata": {},
   "outputs": [
    {
     "name": "stdout",
     "output_type": "stream",
     "text": [
      "EquipoA: 32 puntos\n",
      "EquipoE: 27 puntos\n",
      "EquipoC: 26 puntos\n",
      "EquipoB: 24 puntos\n",
      "EquipoD: 23 puntos\n"
     ]
    }
   ],
   "source": [
    "ranking = generar_tabla_de_resultados(evaluaciones)"
   ]
  },
  {
   "cell_type": "code",
   "execution_count": null,
   "id": "1d3caedb",
   "metadata": {},
   "outputs": [
    {
     "name": "stdout",
     "output_type": "stream",
     "text": [
      "\n",
      "Ranking de equipos:\n",
      "EquipoA: 32\n",
      "EquipoE: 27\n",
      "EquipoC: 26\n",
      "EquipoB: 24\n",
      "EquipoD: 23\n"
     ]
    }
   ],
   "source": [
    "\n"
   ]
  }
 ],
 "metadata": {
  "kernelspec": {
   "display_name": "Python 3",
   "language": "python",
   "name": "python3"
  },
  "language_info": {
   "codemirror_mode": {
    "name": "ipython",
    "version": 3
   },
   "file_extension": ".py",
   "mimetype": "text/x-python",
   "name": "python",
   "nbconvert_exporter": "python",
   "pygments_lexer": "ipython3",
   "version": "3.12.9"
  }
 },
 "nbformat": 4,
 "nbformat_minor": 5
}
