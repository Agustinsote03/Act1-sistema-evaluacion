{
 "cells": [
  {
   "cell_type": "code",
   "execution_count": 1,
   "id": "0e6333bc",
   "metadata": {},
   "outputs": [
    {
     "name": "stdout",
     "output_type": "stream",
     "text": [
      "Funciones importadas\n"
     ]
    }
   ],
   "source": [
    "\n",
    "import sys\n",
    "import os\n",
    "sys.path.append(os.path.join(os.getcwd(), '..', 'src'))\n",
    "from funciones import procesar_evaluaciones_completo, mostrar_tabla_tabla_de_resultados\n",
    "print(\"Funciones importadas\")"
   ]
  },
  {
   "cell_type": "code",
   "execution_count": 2,
   "id": "ffe6090d",
   "metadata": {},
   "outputs": [],
   "source": [
    "evaluaciones = [\n",
    "    # Ronda 1\n",
    "    {\n",
    "        'EquipoA': {'innovacion': 2, 'presentacion': 1, 'errores': True},\n",
    "        'EquipoB': {'innovacion': 1, 'presentacion': 0, 'errores': False},\n",
    "        'EquipoC': {'innovacion': 1, 'presentacion': 2, 'errores': True},\n",
    "        'EquipoD': {'innovacion': 0, 'presentacion': 1, 'errores': False},\n",
    "        'EquipoE': {'innovacion': 1, 'presentacion': 1, 'errores': False}\n",
    "    },\n",
    "    # Ronda 2\n",
    "    {\n",
    "        'EquipoA': {'innovacion': 0, 'presentacion': 2, 'errores': False},\n",
    "        'EquipoB': {'innovacion': 2, 'presentacion': 0, 'errores': True},\n",
    "        'EquipoC': {'innovacion': 1, 'presentacion': 1, 'errores': False},\n",
    "        'EquipoD': {'innovacion': 2, 'presentacion': 1, 'errores': True},\n",
    "        'EquipoE': {'innovacion': 0, 'presentacion': 1, 'errores': False}\n",
    "    },\n",
    "    # Ronda 3\n",
    "    {\n",
    "        'EquipoA': {'innovacion': 3, 'presentacion': 2, 'errores': False},\n",
    "        'EquipoB': {'innovacion': 1, 'presentacion': 1, 'errores': True},\n",
    "        'EquipoC': {'innovacion': 2, 'presentacion': 0, 'errores': False},\n",
    "        'EquipoD': {'innovacion': 1, 'presentacion': 3, 'errores': True},\n",
    "        'EquipoE': {'innovacion': 2, 'presentacion': 2, 'errores': False}\n",
    "    },\n",
    "    # Ronda 4\n",
    "    {\n",
    "        'EquipoA': {'innovacion': 1, 'presentacion': 3, 'errores': True},\n",
    "        'EquipoB': {'innovacion': 2, 'presentacion': 2, 'errores': False},\n",
    "        'EquipoC': {'innovacion': 3, 'presentacion': 1, 'errores': False},\n",
    "        'EquipoD': {'innovacion': 0, 'presentacion': 2, 'errores': True},\n",
    "        'EquipoE': {'innovacion': 2, 'presentacion': 0, 'errores': False}\n",
    "    },\n",
    "    # Ronda 5\n",
    "    {\n",
    "        'EquipoA': {'innovacion': 2, 'presentacion': 2, 'errores': False},\n",
    "        'EquipoB': {'innovacion': 1, 'presentacion': 3, 'errores': True},\n",
    "        'EquipoC': {'innovacion': 0, 'presentacion': 2, 'errores': False},\n",
    "        'EquipoD': {'innovacion': 3, 'presentacion': 1, 'errores': False},\n",
    "        'EquipoE': {'innovacion': 2, 'presentacion': 3, 'errores': True}\n",
    "    }\n",
    "]"
   ]
  },
  {
   "cell_type": "code",
   "execution_count": 3,
   "id": "a206ee02",
   "metadata": {},
   "outputs": [
    {
     "name": "stdout",
     "output_type": "stream",
     "text": [
      "PROCESANDO EVALUACIONES...\n",
      "==================================================\n",
      "\n",
      "Ronda 1:\n",
      "--------------------------------------------------\n",
      "1 - EquipoA: 6 puntos\n",
      "1 - EquipoB: 3 puntos\n",
      "1 - EquipoC: 4 puntos\n",
      "1 - EquipoD: 1 puntos\n",
      "1 - EquipoE: 4 puntos\n",
      "\n",
      "Ronda 2:\n",
      "--------------------------------------------------\n",
      "2 - EquipoA: 2 puntos\n",
      "2 - EquipoB: 5 puntos\n",
      "2 - EquipoC: 4 puntos\n",
      "2 - EquipoD: 6 puntos\n",
      "2 - EquipoE: 1 puntos\n",
      "\n",
      "Ronda 3:\n",
      "--------------------------------------------------\n",
      "3 - EquipoA: 11 puntos\n",
      "3 - EquipoB: 3 puntos\n",
      "3 - EquipoC: 6 puntos\n",
      "3 - EquipoD: 5 puntos\n",
      "3 - EquipoE: 8 puntos\n",
      "\n",
      "Ronda 4:\n",
      "--------------------------------------------------\n",
      "4 - EquipoA: 5 puntos\n",
      "4 - EquipoB: 8 puntos\n",
      "4 - EquipoC: 10 puntos\n",
      "4 - EquipoD: 1 puntos\n",
      "4 - EquipoE: 6 puntos\n",
      "\n",
      "Ronda 5:\n",
      "--------------------------------------------------\n",
      "5 - EquipoA: 8 puntos\n",
      "5 - EquipoB: 5 puntos\n",
      "5 - EquipoC: 2 puntos\n",
      "5 - EquipoD: 10 puntos\n",
      "5 - EquipoE: 8 puntos\n"
     ]
    },
    {
     "data": {
      "text/plain": [
       "{'estadisticas': {'EquipoA': {'innovacion_total': 8,\n",
       "   'presentacion_total': 10,\n",
       "   'errores_total': 2,\n",
       "   'veces_mejor': 0,\n",
       "   'puntos_totales': 32},\n",
       "  'EquipoB': {'innovacion_total': 7,\n",
       "   'presentacion_total': 6,\n",
       "   'errores_total': 3,\n",
       "   'veces_mejor': 0,\n",
       "   'puntos_totales': 24},\n",
       "  'EquipoC': {'innovacion_total': 7,\n",
       "   'presentacion_total': 6,\n",
       "   'errores_total': 1,\n",
       "   'veces_mejor': 0,\n",
       "   'puntos_totales': 26},\n",
       "  'EquipoD': {'innovacion_total': 6,\n",
       "   'presentacion_total': 8,\n",
       "   'errores_total': 3,\n",
       "   'veces_mejor': 1,\n",
       "   'puntos_totales': 23},\n",
       "  'EquipoE': {'innovacion_total': 7,\n",
       "   'presentacion_total': 7,\n",
       "   'errores_total': 1,\n",
       "   'veces_mejor': 0,\n",
       "   'puntos_totales': 27}},\n",
       " 'resultados_por_ronda': [{'ronda': 4,\n",
       "   'puntajes': {'EquipoA': 8,\n",
       "    'EquipoB': 5,\n",
       "    'EquipoC': 2,\n",
       "    'EquipoD': 10,\n",
       "    'EquipoE': 8},\n",
       "   'mejor_equipo': 'EquipoD',\n",
       "   'mejor puntaje': 10}],\n",
       " 'puntajes_acumulados': {'EquipoA': 32,\n",
       "  'EquipoB': 24,\n",
       "  'EquipoC': 26,\n",
       "  'EquipoD': 23,\n",
       "  'EquipoE': 27}}"
      ]
     },
     "execution_count": 3,
     "metadata": {},
     "output_type": "execute_result"
    }
   ],
   "source": [
    "# Recorrido de la lista\n",
    "procesar_evaluaciones_completo(evaluaciones)\n"
   ]
  },
  {
   "cell_type": "code",
   "execution_count": null,
   "id": "1d3caedb",
   "metadata": {},
   "outputs": [],
   "source": [
    "\n"
   ]
  }
 ],
 "metadata": {
  "kernelspec": {
   "display_name": "Python 3",
   "language": "python",
   "name": "python3"
  },
  "language_info": {
   "codemirror_mode": {
    "name": "ipython",
    "version": 3
   },
   "file_extension": ".py",
   "mimetype": "text/x-python",
   "name": "python",
   "nbconvert_exporter": "python",
   "pygments_lexer": "ipython3",
   "version": "3.12.9"
  }
 },
 "nbformat": 4,
 "nbformat_minor": 5
}
